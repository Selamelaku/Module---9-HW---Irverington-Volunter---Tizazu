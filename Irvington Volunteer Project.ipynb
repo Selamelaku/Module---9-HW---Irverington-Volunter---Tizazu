{
 "cells": [
  {
   "cell_type": "markdown",
   "id": "1e97d0dc",
   "metadata": {},
   "source": [
    "## Irvington Volunteer Project \n",
    "\n",
    "It's that time of year again! \n",
    "\n",
    "In your small town of Irvington, there is an annual festival that brings in visitors from all over the state! It's a huge deal and depends completely on the help of the local townspeople. \n",
    "\n",
    "The festival is 100% volunteer-run and operated, and it's your job to make sure all the volunteers have everything they need to get started. It is also your job to make sure volunteers are well organized, well prepared, and ready to rock when the day of the festival arrives! \n",
    "\n",
    "In the months before the festival, you collected a lot of information on each of the 1,000 volunteers. This information will help you better organize the volunteer effort. Follow the prompts below to complete your task of leading the volunteer effort!\n",
    "\n",
    "***\n",
    "\n",
    "#### For this task, use the Irvington Volunteers dataset. This dataset includes the following columns:\n",
    "\n",
    "    * First = First name of volunteer\n",
    "    * Last = Last name of volunteer\n",
    "    * Gender = Gender of volunteer\n",
    "    * Age = Age of volunteer         \n",
    "    * Shift = Shift of volunteer worker; 1 = first shift; 2 = second shift; 3 = third shift; 4 = forth shift\n",
    "    * Month = Month of year volunteer signed up for task\n",
    "    * Volunteer Task = Assigned task for volunteer \n",
    "    * Task Level = Level of involvement for volunteer task; 1 = beginner, 2 = moderate, 3 = expert\n",
    "    * Supervisor Number = Supervisor assigned to volunteer\n",
    "    * Fees Owed = Outstanding volunteer fee's that are owed to community\n",
    "    * Materials Needed = Does the volunteer still need task-specific materials; Y = yes; N = no\n",
    "    * Volunteer Hours = Number of hours volunteer has spent preparing for task\n",
    "    * Hours Pledged = Number of hours volunteer pledged to spend on task\n",
    "    * Task Training Completed = Did the volunteer complete task-specific training; Y = yes; N = no\n",
    "    * Recruited Volunteers = Number of other volunteers recruited by this volunteer"
   ]
  },
  {
   "cell_type": "markdown",
   "id": "77cd34e4",
   "metadata": {},
   "source": [
    "1. Import the \"Irvington Volunteers\" dataset. Check to make sure the dataset looks like what you're expecting"
   ]
  },
  {
   "cell_type": "code",
   "execution_count": 11,
   "id": "9a34ba4f",
   "metadata": {},
   "outputs": [],
   "source": [
    "import pandas as pd"
   ]
  },
  {
   "cell_type": "code",
   "execution_count": 14,
   "id": "a16148b3",
   "metadata": {},
   "outputs": [],
   "source": [
    "df = pd.read_excel(\"Irvington_Volunteers.xlsx\")"
   ]
  },
  {
   "cell_type": "markdown",
   "id": "3da6953e",
   "metadata": {},
   "source": [
    "2. Confirm all your volunteers are accounted for and all of the information you need is within the dataset. What characteristics can you identify in the dataset?\n",
    "***\n",
    "\n",
    "* How many rows are in the dataset?\n",
    "* How many columns are in the dataset?\n",
    "* What types of data are within each column?"
   ]
  },
  {
   "cell_type": "code",
   "execution_count": 31,
   "id": "ac3f1a8f",
   "metadata": {},
   "outputs": [
    {
     "data": {
      "text/html": [
       "<div>\n",
       "<style scoped>\n",
       "    .dataframe tbody tr th:only-of-type {\n",
       "        vertical-align: middle;\n",
       "    }\n",
       "\n",
       "    .dataframe tbody tr th {\n",
       "        vertical-align: top;\n",
       "    }\n",
       "\n",
       "    .dataframe thead th {\n",
       "        text-align: right;\n",
       "    }\n",
       "</style>\n",
       "<table border=\"1\" class=\"dataframe\">\n",
       "  <thead>\n",
       "    <tr style=\"text-align: right;\">\n",
       "      <th></th>\n",
       "      <th>First</th>\n",
       "      <th>Last</th>\n",
       "      <th>Gender</th>\n",
       "      <th>Age</th>\n",
       "      <th>Shift</th>\n",
       "      <th>Month</th>\n",
       "      <th>Volunteer Task</th>\n",
       "      <th>Task Level</th>\n",
       "      <th>Supervisor Number</th>\n",
       "      <th>Fees Owed</th>\n",
       "      <th>Materials Needed</th>\n",
       "      <th>Volunteer Hours</th>\n",
       "      <th>Hours Pledged</th>\n",
       "      <th>Task Training Completed</th>\n",
       "      <th>Recruited Volunteers</th>\n",
       "    </tr>\n",
       "  </thead>\n",
       "  <tbody>\n",
       "    <tr>\n",
       "      <th>994</th>\n",
       "      <td>Walter</td>\n",
       "      <td>Mulgrew</td>\n",
       "      <td>M</td>\n",
       "      <td>63</td>\n",
       "      <td>3</td>\n",
       "      <td>4</td>\n",
       "      <td>Information Desk</td>\n",
       "      <td>2</td>\n",
       "      <td>5</td>\n",
       "      <td>10</td>\n",
       "      <td>Y</td>\n",
       "      <td>25</td>\n",
       "      <td>28</td>\n",
       "      <td>Y</td>\n",
       "      <td>5</td>\n",
       "    </tr>\n",
       "    <tr>\n",
       "      <th>995</th>\n",
       "      <td>Veronica</td>\n",
       "      <td>Looner</td>\n",
       "      <td>F</td>\n",
       "      <td>63</td>\n",
       "      <td>3</td>\n",
       "      <td>5</td>\n",
       "      <td>Clean Up</td>\n",
       "      <td>2</td>\n",
       "      <td>5</td>\n",
       "      <td>28</td>\n",
       "      <td>N</td>\n",
       "      <td>8</td>\n",
       "      <td>28</td>\n",
       "      <td>Y</td>\n",
       "      <td>4</td>\n",
       "    </tr>\n",
       "    <tr>\n",
       "      <th>996</th>\n",
       "      <td>Larry</td>\n",
       "      <td>Patterson</td>\n",
       "      <td>M</td>\n",
       "      <td>49</td>\n",
       "      <td>1</td>\n",
       "      <td>4</td>\n",
       "      <td>Clean Up</td>\n",
       "      <td>2</td>\n",
       "      <td>5</td>\n",
       "      <td>21</td>\n",
       "      <td>Y</td>\n",
       "      <td>16</td>\n",
       "      <td>28</td>\n",
       "      <td>N</td>\n",
       "      <td>3</td>\n",
       "    </tr>\n",
       "    <tr>\n",
       "      <th>997</th>\n",
       "      <td>Victor</td>\n",
       "      <td>Kane</td>\n",
       "      <td>M</td>\n",
       "      <td>39</td>\n",
       "      <td>3</td>\n",
       "      <td>7</td>\n",
       "      <td>Concession Stand</td>\n",
       "      <td>2</td>\n",
       "      <td>5</td>\n",
       "      <td>28</td>\n",
       "      <td>Y</td>\n",
       "      <td>8</td>\n",
       "      <td>28</td>\n",
       "      <td>Y</td>\n",
       "      <td>4</td>\n",
       "    </tr>\n",
       "    <tr>\n",
       "      <th>998</th>\n",
       "      <td>Victoria</td>\n",
       "      <td>Rogers</td>\n",
       "      <td>F</td>\n",
       "      <td>29</td>\n",
       "      <td>4</td>\n",
       "      <td>4</td>\n",
       "      <td>Gardening and Lawn Care</td>\n",
       "      <td>2</td>\n",
       "      <td>5</td>\n",
       "      <td>21</td>\n",
       "      <td>Y</td>\n",
       "      <td>18</td>\n",
       "      <td>28</td>\n",
       "      <td>N</td>\n",
       "      <td>1</td>\n",
       "    </tr>\n",
       "  </tbody>\n",
       "</table>\n",
       "</div>"
      ],
      "text/plain": [
       "        First       Last Gender  Age  Shift  Month           Volunteer Task  \\\n",
       "994    Walter    Mulgrew      M   63      3      4         Information Desk   \n",
       "995  Veronica     Looner      F   63      3      5                 Clean Up   \n",
       "996     Larry  Patterson      M   49      1      4                 Clean Up   \n",
       "997    Victor       Kane      M   39      3      7         Concession Stand   \n",
       "998  Victoria     Rogers      F   29      4      4  Gardening and Lawn Care   \n",
       "\n",
       "     Task Level  Supervisor Number  Fees Owed Materials Needed  \\\n",
       "994           2                  5         10                Y   \n",
       "995           2                  5         28                N   \n",
       "996           2                  5         21                Y   \n",
       "997           2                  5         28                Y   \n",
       "998           2                  5         21                Y   \n",
       "\n",
       "     Volunteer Hours  Hours Pledged Task Training Completed  \\\n",
       "994               25             28                       Y   \n",
       "995                8             28                       Y   \n",
       "996               16             28                       N   \n",
       "997                8             28                       Y   \n",
       "998               18             28                       N   \n",
       "\n",
       "     Recruited Volunteers  \n",
       "994                     5  \n",
       "995                     4  \n",
       "996                     3  \n",
       "997                     4  \n",
       "998                     1  "
      ]
     },
     "execution_count": 31,
     "metadata": {},
     "output_type": "execute_result"
    }
   ],
   "source": [
    "df.tail()"
   ]
  },
  {
   "cell_type": "code",
   "execution_count": 32,
   "id": "685fb338",
   "metadata": {},
   "outputs": [
    {
     "data": {
      "text/plain": [
       "Index(['First', 'Last', 'Gender', 'Age', 'Shift', 'Month', 'Volunteer Task',\n",
       "       'Task Level', 'Supervisor Number', 'Fees Owed', 'Materials Needed',\n",
       "       'Volunteer Hours', 'Hours Pledged', 'Task Training Completed',\n",
       "       'Recruited Volunteers'],\n",
       "      dtype='object')"
      ]
     },
     "execution_count": 32,
     "metadata": {},
     "output_type": "execute_result"
    }
   ],
   "source": [
    "df.columns"
   ]
  },
  {
   "cell_type": "code",
   "execution_count": 34,
   "id": "f7280243",
   "metadata": {},
   "outputs": [
    {
     "name": "stdout",
     "output_type": "stream",
     "text": [
      "<class 'pandas.core.frame.DataFrame'>\n",
      "RangeIndex: 999 entries, 0 to 998\n",
      "Data columns (total 15 columns):\n",
      " #   Column                   Non-Null Count  Dtype \n",
      "---  ------                   --------------  ----- \n",
      " 0   First                    999 non-null    object\n",
      " 1   Last                     999 non-null    object\n",
      " 2   Gender                   999 non-null    object\n",
      " 3   Age                      999 non-null    int64 \n",
      " 4   Shift                    999 non-null    int64 \n",
      " 5   Month                    999 non-null    int64 \n",
      " 6   Volunteer Task           999 non-null    object\n",
      " 7   Task Level               999 non-null    int64 \n",
      " 8   Supervisor Number        999 non-null    int64 \n",
      " 9   Fees Owed                999 non-null    int64 \n",
      " 10  Materials Needed         999 non-null    object\n",
      " 11  Volunteer Hours          999 non-null    int64 \n",
      " 12  Hours Pledged            999 non-null    int64 \n",
      " 13  Task Training Completed  999 non-null    object\n",
      " 14  Recruited Volunteers     999 non-null    int64 \n",
      "dtypes: int64(9), object(6)\n",
      "memory usage: 117.2+ KB\n"
     ]
    }
   ],
   "source": [
    "df.info()"
   ]
  },
  {
   "cell_type": "markdown",
   "id": "5bbcbad0",
   "metadata": {},
   "source": [
    "3. Before taking this list seriously, we need to check to make sure all the volunteers are eligible to work their specific task. The only eligibility requirement is age-based -- no volunteers can be under the age of 13 and no volunteers can be over the age of 75. Are there any volunteers that fall outside of this range?"
   ]
  },
  {
   "cell_type": "code",
   "execution_count": 54,
   "id": "4bb7bb7a",
   "metadata": {},
   "outputs": [
    {
     "data": {
      "text/html": [
       "<div>\n",
       "<style scoped>\n",
       "    .dataframe tbody tr th:only-of-type {\n",
       "        vertical-align: middle;\n",
       "    }\n",
       "\n",
       "    .dataframe tbody tr th {\n",
       "        vertical-align: top;\n",
       "    }\n",
       "\n",
       "    .dataframe thead th {\n",
       "        text-align: right;\n",
       "    }\n",
       "</style>\n",
       "<table border=\"1\" class=\"dataframe\">\n",
       "  <thead>\n",
       "    <tr style=\"text-align: right;\">\n",
       "      <th></th>\n",
       "      <th>First</th>\n",
       "      <th>Last</th>\n",
       "      <th>Gender</th>\n",
       "      <th>Age</th>\n",
       "      <th>Shift</th>\n",
       "      <th>Month</th>\n",
       "      <th>Volunteer Task</th>\n",
       "      <th>Task Level</th>\n",
       "      <th>Supervisor Number</th>\n",
       "      <th>Fees Owed</th>\n",
       "      <th>Materials Needed</th>\n",
       "      <th>Volunteer Hours</th>\n",
       "      <th>Hours Pledged</th>\n",
       "      <th>Task Training Completed</th>\n",
       "      <th>Recruited Volunteers</th>\n",
       "    </tr>\n",
       "  </thead>\n",
       "  <tbody>\n",
       "  </tbody>\n",
       "</table>\n",
       "</div>"
      ],
      "text/plain": [
       "Empty DataFrame\n",
       "Columns: [First, Last, Gender, Age, Shift, Month, Volunteer Task, Task Level, Supervisor Number, Fees Owed, Materials Needed, Volunteer Hours, Hours Pledged, Task Training Completed, Recruited Volunteers]\n",
       "Index: []"
      ]
     },
     "execution_count": 54,
     "metadata": {},
     "output_type": "execute_result"
    }
   ],
   "source": [
    "df.loc[(df[\"Age\"] <13) & (df[\"Age\"] >75)]"
   ]
  },
  {
   "cell_type": "markdown",
   "id": "37bc266c",
   "metadata": {},
   "source": [
    "4. Did you miss anyone? Did you make sure to record ALL the information for ALL the volunteers? Quickly check if your missing any data in this dataset. "
   ]
  },
  {
   "cell_type": "code",
   "execution_count": 27,
   "id": "c5508e49",
   "metadata": {},
   "outputs": [
    {
     "data": {
      "text/plain": [
       "First                      0\n",
       "Last                       0\n",
       "Gender                     0\n",
       "Age                        0\n",
       "Shift                      0\n",
       "Month                      0\n",
       "Volunteer Task             0\n",
       "Task Level                 0\n",
       "Supervisor Number          0\n",
       "Fees Owed                  0\n",
       "Materials Needed           0\n",
       "Volunteer Hours            0\n",
       "Hours Pledged              0\n",
       "Task Training Completed    0\n",
       "Recruited Volunteers       0\n",
       "dtype: int64"
      ]
     },
     "execution_count": 27,
     "metadata": {},
     "output_type": "execute_result"
    }
   ],
   "source": [
    "df.isnull().sum()"
   ]
  },
  {
   "cell_type": "markdown",
   "id": "1f9de06b",
   "metadata": {},
   "source": [
    "5. A lot of the information we have organizes the volunteers into specific groups. It's important that none of these groups are mismatched (too many people in one group vs another). Let's check how many volunteers fall into each of the following groups. (Hint: you need to use the value counts function for this question). \n",
    "***\n",
    "\n",
    "* Last (how many volunteers are from the same family?)\n",
    "* Gender\n",
    "* Shift\n",
    "* Month\n",
    "* Volunteer Task\n",
    "* Task Level\n",
    "* Supervisor Number\n",
    "* Materials Needed\n",
    "* Task Training Completed"
   ]
  },
  {
   "cell_type": "code",
   "execution_count": 35,
   "id": "38e2a775",
   "metadata": {},
   "outputs": [
    {
     "data": {
      "text/plain": [
       "M    510\n",
       "F    489\n",
       "Name: Gender, dtype: int64"
      ]
     },
     "execution_count": 35,
     "metadata": {},
     "output_type": "execute_result"
    }
   ],
   "source": [
    "df[\"Gender\"].value_counts()"
   ]
  },
  {
   "cell_type": "code",
   "execution_count": 36,
   "id": "6010d053",
   "metadata": {},
   "outputs": [
    {
     "data": {
      "text/plain": [
       "3    258\n",
       "2    251\n",
       "4    246\n",
       "1    244\n",
       "Name: Shift, dtype: int64"
      ]
     },
     "execution_count": 36,
     "metadata": {},
     "output_type": "execute_result"
    }
   ],
   "source": [
    "df[\"Shift\"].value_counts()"
   ]
  },
  {
   "cell_type": "code",
   "execution_count": 40,
   "id": "07b772f1",
   "metadata": {},
   "outputs": [
    {
     "data": {
      "text/plain": [
       "3     96\n",
       "4     95\n",
       "2     89\n",
       "11    89\n",
       "12    87\n",
       "7     86\n",
       "8     86\n",
       "9     83\n",
       "5     74\n",
       "6     73\n",
       "10    72\n",
       "1     69\n",
       "Name: Month, dtype: int64"
      ]
     },
     "execution_count": 40,
     "metadata": {},
     "output_type": "execute_result"
    }
   ],
   "source": [
    "df[\"Month\"].value_counts()"
   ]
  },
  {
   "cell_type": "code",
   "execution_count": 45,
   "id": "b88d5d16",
   "metadata": {},
   "outputs": [
    {
     "data": {
      "text/plain": [
       "Concession Stand           142\n",
       "Information Desk           131\n",
       "First Aid Booth            130\n",
       "Clean Up                   128\n",
       "Safety                     124\n",
       "Fire Safety                120\n",
       "Booth Set-Up               114\n",
       "Gardening and Lawn Care    110\n",
       "Name: Volunteer Task, dtype: int64"
      ]
     },
     "execution_count": 45,
     "metadata": {},
     "output_type": "execute_result"
    }
   ],
   "source": [
    "df[\"Volunteer Task\"].value_counts()"
   ]
  },
  {
   "cell_type": "code",
   "execution_count": 46,
   "id": "d2c1652a",
   "metadata": {},
   "outputs": [
    {
     "data": {
      "text/plain": [
       "3    352\n",
       "2    342\n",
       "1    305\n",
       "Name: Task Level, dtype: int64"
      ]
     },
     "execution_count": 46,
     "metadata": {},
     "output_type": "execute_result"
    }
   ],
   "source": [
    "df[\"Task Level\"].value_counts()"
   ]
  },
  {
   "cell_type": "code",
   "execution_count": 47,
   "id": "bf7f0c00",
   "metadata": {},
   "outputs": [
    {
     "data": {
      "text/plain": [
       "3    352\n",
       "2    342\n",
       "1    305\n",
       "Name: Task Level, dtype: int64"
      ]
     },
     "execution_count": 47,
     "metadata": {},
     "output_type": "execute_result"
    }
   ],
   "source": [
    "df[\"Task Level\"].value_counts()"
   ]
  },
  {
   "cell_type": "code",
   "execution_count": 49,
   "id": "369a8a5b",
   "metadata": {},
   "outputs": [
    {
     "data": {
      "text/plain": [
       "3    212\n",
       "2    207\n",
       "5    202\n",
       "4    195\n",
       "1    183\n",
       "Name: Supervisor Number, dtype: int64"
      ]
     },
     "execution_count": 49,
     "metadata": {},
     "output_type": "execute_result"
    }
   ],
   "source": [
    "df[\"Supervisor Number\"].value_counts()"
   ]
  },
  {
   "cell_type": "code",
   "execution_count": 48,
   "id": "35ffef37",
   "metadata": {},
   "outputs": [
    {
     "data": {
      "text/plain": [
       "Y    637\n",
       "N    362\n",
       "Name: Materials Needed, dtype: int64"
      ]
     },
     "execution_count": 48,
     "metadata": {},
     "output_type": "execute_result"
    }
   ],
   "source": [
    "df[\"Materials Needed\"].value_counts()"
   ]
  },
  {
   "cell_type": "code",
   "execution_count": 50,
   "id": "bd09aa71",
   "metadata": {},
   "outputs": [
    {
     "data": {
      "text/plain": [
       "Y    586\n",
       "N    413\n",
       "Name: Task Training Completed, dtype: int64"
      ]
     },
     "execution_count": 50,
     "metadata": {},
     "output_type": "execute_result"
    }
   ],
   "source": [
    "df[\"Task Training Completed\"].value_counts()"
   ]
  },
  {
   "cell_type": "code",
   "execution_count": 64,
   "id": "203bd41c",
   "metadata": {},
   "outputs": [
    {
     "data": {
      "text/html": [
       "<div>\n",
       "<style scoped>\n",
       "    .dataframe tbody tr th:only-of-type {\n",
       "        vertical-align: middle;\n",
       "    }\n",
       "\n",
       "    .dataframe tbody tr th {\n",
       "        vertical-align: top;\n",
       "    }\n",
       "\n",
       "    .dataframe thead th {\n",
       "        text-align: right;\n",
       "    }\n",
       "</style>\n",
       "<table border=\"1\" class=\"dataframe\">\n",
       "  <thead>\n",
       "    <tr style=\"text-align: right;\">\n",
       "      <th></th>\n",
       "      <th>First</th>\n",
       "      <th>Last</th>\n",
       "      <th>Gender</th>\n",
       "      <th>Age</th>\n",
       "      <th>Shift</th>\n",
       "      <th>Month</th>\n",
       "      <th>Volunteer Task</th>\n",
       "      <th>Task Level</th>\n",
       "      <th>Supervisor Number</th>\n",
       "      <th>Fees Owed</th>\n",
       "      <th>Materials Needed</th>\n",
       "      <th>Volunteer Hours</th>\n",
       "      <th>Hours Pledged</th>\n",
       "      <th>Task Training Completed</th>\n",
       "      <th>Recruited Volunteers</th>\n",
       "    </tr>\n",
       "  </thead>\n",
       "  <tbody>\n",
       "    <tr>\n",
       "      <th>0</th>\n",
       "      <td>Jackie</td>\n",
       "      <td>Jackson</td>\n",
       "      <td>F</td>\n",
       "      <td>59</td>\n",
       "      <td>4</td>\n",
       "      <td>12</td>\n",
       "      <td>Fire Safety</td>\n",
       "      <td>2</td>\n",
       "      <td>1</td>\n",
       "      <td>18</td>\n",
       "      <td>Y</td>\n",
       "      <td>19</td>\n",
       "      <td>28</td>\n",
       "      <td>Y</td>\n",
       "      <td>3</td>\n",
       "    </tr>\n",
       "    <tr>\n",
       "      <th>1</th>\n",
       "      <td>Mary</td>\n",
       "      <td>Patterson</td>\n",
       "      <td>F</td>\n",
       "      <td>31</td>\n",
       "      <td>4</td>\n",
       "      <td>10</td>\n",
       "      <td>First Aid Booth</td>\n",
       "      <td>1</td>\n",
       "      <td>1</td>\n",
       "      <td>7</td>\n",
       "      <td>N</td>\n",
       "      <td>27</td>\n",
       "      <td>28</td>\n",
       "      <td>N</td>\n",
       "      <td>6</td>\n",
       "    </tr>\n",
       "    <tr>\n",
       "      <th>2</th>\n",
       "      <td>Tanya</td>\n",
       "      <td>Adams</td>\n",
       "      <td>F</td>\n",
       "      <td>48</td>\n",
       "      <td>1</td>\n",
       "      <td>3</td>\n",
       "      <td>Concession Stand</td>\n",
       "      <td>3</td>\n",
       "      <td>1</td>\n",
       "      <td>22</td>\n",
       "      <td>N</td>\n",
       "      <td>16</td>\n",
       "      <td>28</td>\n",
       "      <td>Y</td>\n",
       "      <td>2</td>\n",
       "    </tr>\n",
       "    <tr>\n",
       "      <th>3</th>\n",
       "      <td>Tanya</td>\n",
       "      <td>Henderson</td>\n",
       "      <td>F</td>\n",
       "      <td>19</td>\n",
       "      <td>2</td>\n",
       "      <td>2</td>\n",
       "      <td>Information Desk</td>\n",
       "      <td>3</td>\n",
       "      <td>1</td>\n",
       "      <td>26</td>\n",
       "      <td>Y</td>\n",
       "      <td>9</td>\n",
       "      <td>28</td>\n",
       "      <td>Y</td>\n",
       "      <td>5</td>\n",
       "    </tr>\n",
       "    <tr>\n",
       "      <th>4</th>\n",
       "      <td>Walter</td>\n",
       "      <td>Franklin</td>\n",
       "      <td>M</td>\n",
       "      <td>25</td>\n",
       "      <td>1</td>\n",
       "      <td>2</td>\n",
       "      <td>Concession Stand</td>\n",
       "      <td>1</td>\n",
       "      <td>1</td>\n",
       "      <td>25</td>\n",
       "      <td>Y</td>\n",
       "      <td>11</td>\n",
       "      <td>28</td>\n",
       "      <td>Y</td>\n",
       "      <td>4</td>\n",
       "    </tr>\n",
       "  </tbody>\n",
       "</table>\n",
       "</div>"
      ],
      "text/plain": [
       "    First       Last Gender  Age  Shift  Month    Volunteer Task  Task Level  \\\n",
       "0  Jackie    Jackson      F   59      4     12       Fire Safety           2   \n",
       "1    Mary  Patterson      F   31      4     10   First Aid Booth           1   \n",
       "2   Tanya      Adams      F   48      1      3  Concession Stand           3   \n",
       "3   Tanya  Henderson      F   19      2      2  Information Desk           3   \n",
       "4  Walter   Franklin      M   25      1      2  Concession Stand           1   \n",
       "\n",
       "   Supervisor Number  Fees Owed Materials Needed  Volunteer Hours  \\\n",
       "0                  1         18                Y               19   \n",
       "1                  1          7                N               27   \n",
       "2                  1         22                N               16   \n",
       "3                  1         26                Y                9   \n",
       "4                  1         25                Y               11   \n",
       "\n",
       "   Hours Pledged Task Training Completed  Recruited Volunteers  \n",
       "0             28                       Y                     3  \n",
       "1             28                       N                     6  \n",
       "2             28                       Y                     2  \n",
       "3             28                       Y                     5  \n",
       "4             28                       Y                     4  "
      ]
     },
     "execution_count": 64,
     "metadata": {},
     "output_type": "execute_result"
    }
   ],
   "source": [
    "df.head()"
   ]
  },
  {
   "cell_type": "markdown",
   "id": "63759176",
   "metadata": {},
   "source": [
    "6. Let's look at these same groups, but from another angle. It's important that the community members are mixing and mingling with members of all ages. What is the average age of volunteers within all the groups listed below? (Hint: you need to use the groupby function for this question). Once you determine the average age of volunteers in the groups below, determine the average number of volunteer hours for all the groups below. \n",
    "***\n",
    "\n",
    "* Gender\n",
    "* Shift\n",
    "* Month\n",
    "* Volunteer Task\n",
    "* Task Level\n",
    "* Supervisor Number\n",
    "* Materials Needed\n",
    "* Task Training Completed"
   ]
  },
  {
   "cell_type": "code",
   "execution_count": 69,
   "id": "c891c171",
   "metadata": {},
   "outputs": [
    {
     "data": {
      "text/plain": [
       "Age\n",
       "16    18.238095\n",
       "17    19.200000\n",
       "18    18.666667\n",
       "19    18.785714\n",
       "20    16.857143\n",
       "21    18.368421\n",
       "22    21.625000\n",
       "23    16.526316\n",
       "24    19.157895\n",
       "25    22.533333\n",
       "26    20.650000\n",
       "27    20.166667\n",
       "28    17.500000\n",
       "29    19.840000\n",
       "30    20.125000\n",
       "31    16.761905\n",
       "32    22.800000\n",
       "33    20.500000\n",
       "34    17.428571\n",
       "35    18.047619\n",
       "36    21.523810\n",
       "37    22.260870\n",
       "38    22.440000\n",
       "39    19.863636\n",
       "40    24.500000\n",
       "41    17.833333\n",
       "42    22.071429\n",
       "43    22.800000\n",
       "44    18.526316\n",
       "45    18.066667\n",
       "46    21.125000\n",
       "47    20.500000\n",
       "48    20.157895\n",
       "49    19.500000\n",
       "50    21.166667\n",
       "51    22.789474\n",
       "52    19.600000\n",
       "53    17.650000\n",
       "54    17.541667\n",
       "55    19.266667\n",
       "56    18.133333\n",
       "57    22.090909\n",
       "58    19.160000\n",
       "59    21.071429\n",
       "60    24.066667\n",
       "61    17.782609\n",
       "62    16.400000\n",
       "63    20.888889\n",
       "64    21.066667\n",
       "65    17.473684\n",
       "66    17.909091\n",
       "67    20.153846\n",
       "68    18.625000\n",
       "Name: Volunteer Hours, dtype: float64"
      ]
     },
     "execution_count": 69,
     "metadata": {},
     "output_type": "execute_result"
    }
   ],
   "source": [
    "df[\"Volunteer Hours\"].groupby(df[\"Age\"]).mean()"
   ]
  },
  {
   "cell_type": "markdown",
   "id": "54b3c95f",
   "metadata": {},
   "source": [
    "7. There are specific groups of volunteers that need to be followed-up with immediately! These are the volunteers that have some outstanding business to handle before the big festival. Locate the group of volunteers that fall within each of these conditions.\n",
    "***\n",
    "* Locate the volunteers who still need materials for their volunteer task\n",
    "* Locate the volunteers who have not yet completed their volunteer training\n",
    "* Locate the volunteers who are experts are their task (aka Task Level = 3)\n",
    "* Locate the volunteers who are working fire safety and haven't yet completed their training - these folks need to get trained ASAP!"
   ]
  },
  {
   "cell_type": "code",
   "execution_count": 76,
   "id": "d7b533f1",
   "metadata": {},
   "outputs": [
    {
     "data": {
      "text/html": [
       "<div>\n",
       "<style scoped>\n",
       "    .dataframe tbody tr th:only-of-type {\n",
       "        vertical-align: middle;\n",
       "    }\n",
       "\n",
       "    .dataframe tbody tr th {\n",
       "        vertical-align: top;\n",
       "    }\n",
       "\n",
       "    .dataframe thead th {\n",
       "        text-align: right;\n",
       "    }\n",
       "</style>\n",
       "<table border=\"1\" class=\"dataframe\">\n",
       "  <thead>\n",
       "    <tr style=\"text-align: right;\">\n",
       "      <th></th>\n",
       "      <th>First</th>\n",
       "      <th>Last</th>\n",
       "      <th>Gender</th>\n",
       "      <th>Age</th>\n",
       "      <th>Shift</th>\n",
       "      <th>Month</th>\n",
       "      <th>Volunteer Task</th>\n",
       "      <th>Task Level</th>\n",
       "      <th>Supervisor Number</th>\n",
       "      <th>Fees Owed</th>\n",
       "      <th>Materials Needed</th>\n",
       "      <th>Volunteer Hours</th>\n",
       "      <th>Hours Pledged</th>\n",
       "      <th>Task Training Completed</th>\n",
       "      <th>Recruited Volunteers</th>\n",
       "    </tr>\n",
       "  </thead>\n",
       "  <tbody>\n",
       "    <tr>\n",
       "      <th>0</th>\n",
       "      <td>Jackie</td>\n",
       "      <td>Jackson</td>\n",
       "      <td>F</td>\n",
       "      <td>59</td>\n",
       "      <td>4</td>\n",
       "      <td>12</td>\n",
       "      <td>Fire Safety</td>\n",
       "      <td>2</td>\n",
       "      <td>1</td>\n",
       "      <td>18</td>\n",
       "      <td>Y</td>\n",
       "      <td>19</td>\n",
       "      <td>28</td>\n",
       "      <td>Y</td>\n",
       "      <td>3</td>\n",
       "    </tr>\n",
       "    <tr>\n",
       "      <th>1</th>\n",
       "      <td>Mary</td>\n",
       "      <td>Patterson</td>\n",
       "      <td>F</td>\n",
       "      <td>31</td>\n",
       "      <td>4</td>\n",
       "      <td>10</td>\n",
       "      <td>First Aid Booth</td>\n",
       "      <td>1</td>\n",
       "      <td>1</td>\n",
       "      <td>7</td>\n",
       "      <td>Y</td>\n",
       "      <td>27</td>\n",
       "      <td>28</td>\n",
       "      <td>N</td>\n",
       "      <td>6</td>\n",
       "    </tr>\n",
       "    <tr>\n",
       "      <th>2</th>\n",
       "      <td>Tanya</td>\n",
       "      <td>Adams</td>\n",
       "      <td>F</td>\n",
       "      <td>48</td>\n",
       "      <td>1</td>\n",
       "      <td>3</td>\n",
       "      <td>Concession Stand</td>\n",
       "      <td>3</td>\n",
       "      <td>1</td>\n",
       "      <td>22</td>\n",
       "      <td>Y</td>\n",
       "      <td>16</td>\n",
       "      <td>28</td>\n",
       "      <td>Y</td>\n",
       "      <td>2</td>\n",
       "    </tr>\n",
       "    <tr>\n",
       "      <th>3</th>\n",
       "      <td>Tanya</td>\n",
       "      <td>Henderson</td>\n",
       "      <td>F</td>\n",
       "      <td>19</td>\n",
       "      <td>2</td>\n",
       "      <td>2</td>\n",
       "      <td>Information Desk</td>\n",
       "      <td>3</td>\n",
       "      <td>1</td>\n",
       "      <td>26</td>\n",
       "      <td>Y</td>\n",
       "      <td>9</td>\n",
       "      <td>28</td>\n",
       "      <td>Y</td>\n",
       "      <td>5</td>\n",
       "    </tr>\n",
       "    <tr>\n",
       "      <th>4</th>\n",
       "      <td>Walter</td>\n",
       "      <td>Franklin</td>\n",
       "      <td>M</td>\n",
       "      <td>25</td>\n",
       "      <td>1</td>\n",
       "      <td>2</td>\n",
       "      <td>Concession Stand</td>\n",
       "      <td>1</td>\n",
       "      <td>1</td>\n",
       "      <td>25</td>\n",
       "      <td>Y</td>\n",
       "      <td>11</td>\n",
       "      <td>28</td>\n",
       "      <td>Y</td>\n",
       "      <td>4</td>\n",
       "    </tr>\n",
       "  </tbody>\n",
       "</table>\n",
       "</div>"
      ],
      "text/plain": [
       "    First       Last Gender  Age  Shift  Month    Volunteer Task  Task Level  \\\n",
       "0  Jackie    Jackson      F   59      4     12       Fire Safety           2   \n",
       "1    Mary  Patterson      F   31      4     10   First Aid Booth           1   \n",
       "2   Tanya      Adams      F   48      1      3  Concession Stand           3   \n",
       "3   Tanya  Henderson      F   19      2      2  Information Desk           3   \n",
       "4  Walter   Franklin      M   25      1      2  Concession Stand           1   \n",
       "\n",
       "   Supervisor Number  Fees Owed Materials Needed  Volunteer Hours  \\\n",
       "0                  1         18                Y               19   \n",
       "1                  1          7                Y               27   \n",
       "2                  1         22                Y               16   \n",
       "3                  1         26                Y                9   \n",
       "4                  1         25                Y               11   \n",
       "\n",
       "   Hours Pledged Task Training Completed  Recruited Volunteers  \n",
       "0             28                       Y                     3  \n",
       "1             28                       N                     6  \n",
       "2             28                       Y                     2  \n",
       "3             28                       Y                     5  \n",
       "4             28                       Y                     4  "
      ]
     },
     "execution_count": 76,
     "metadata": {},
     "output_type": "execute_result"
    }
   ],
   "source": []
  },
  {
   "cell_type": "markdown",
   "id": "cbdf2b09",
   "metadata": {},
   "source": [
    "8. To keep track of volunteers who meet specific conditions, make some additional columns to hold the new information. \n",
    "***\n",
    "\n",
    "* Inexperienced volunteers may get confused or lost. Create a new column called \"needsMentor\". This column should be assigned a value of \"1\" if a volunteer has not completed training and is at skill level 1. \n",
    "* How many volunteers haven't completed the volunteer hours they promised they would? Create a new column that subtracts the number of hours pledged (\"Hours Pledged\") from the number of volunteer hours already worked (\"Volunteer Hours). Call this column \"hoursNeeded\". \n",
    "* There are some overly committed volunteers - they have already worked all their pledged volunteer hours and are still going! These folks need to get a specific bonus when the festival is over - we need to track them somehow. Create a new column called \"overtimeBonus\" - if \"hoursNeeded\" is less than 0, this column should be \"1\". "
   ]
  },
  {
   "cell_type": "code",
   "execution_count": null,
   "id": "a2a41b4f",
   "metadata": {},
   "outputs": [],
   "source": []
  },
  {
   "cell_type": "markdown",
   "id": "2dd59a3c",
   "metadata": {},
   "source": [
    "9. The Mayor wants to make a speech about the different types of community members that are volunteering for the festival. Specifically, the Mayor would like to present some information on the different age groups. Create a new column called \"Age Group\" and bin the \"Age\" column to create bins based on the age of the volunteer. Follow the guidance below for the variations in age. (Hint: you can use any code you like to complete this task - np.select is also an option!)\n",
    "***\n",
    "\n",
    "* Teen (0 - 17)\n",
    "* Young Adult (17.1 - 35)\n",
    "* Adult (35.1 - 65)\n",
    "* Senior (65+)"
   ]
  },
  {
   "cell_type": "code",
   "execution_count": null,
   "id": "98bb2cc9",
   "metadata": {},
   "outputs": [],
   "source": []
  },
  {
   "cell_type": "markdown",
   "id": "6deb955b",
   "metadata": {},
   "source": [
    "10. The Supervisor Number column is all messed up. Someone didn't record is correctly, and now it is meaningless! Drop it from this dataset - it's not providing any meaningful information. "
   ]
  },
  {
   "cell_type": "code",
   "execution_count": null,
   "id": "5bcb035a",
   "metadata": {},
   "outputs": [],
   "source": []
  },
  {
   "cell_type": "markdown",
   "id": "2645b380",
   "metadata": {},
   "source": [
    "11. There is a new policy about volunteer fees. It seems that some of the fees owed were actually for materials that the volunteer paid for out of pocket. Wipe out the debt for those volunteers who owe just a few dollars. If the volunteer owes less than 5 dollars, replace that value with 0!"
   ]
  },
  {
   "cell_type": "code",
   "execution_count": null,
   "id": "499a96ce",
   "metadata": {},
   "outputs": [],
   "source": []
  },
  {
   "cell_type": "markdown",
   "id": "f6fc7097",
   "metadata": {},
   "source": [
    "12. We need some code that we can keep around for next year -- when we have the same task but new data! Define a few functions that can complete tasks that we will need to repeat down the road. \n",
    "\n",
    "***\n",
    "\n",
    "* Define a function to recode the column \"Gender\". Instead of \"M\" and \"F\" -- have the words spelled out \"Male\" and \"Female\". Apply this function to the \"Gender\" column. \n",
    "* Define a function to recode the column \"Month\". Convert the numeric \"Month\" to the name of the Month. Apply this function to the column \"Month\" and create a new column called \"Name of Month\". "
   ]
  },
  {
   "cell_type": "code",
   "execution_count": 82,
   "id": "172482c6",
   "metadata": {},
   "outputs": [],
   "source": [
    "df['Gender'].replace(['F', \"M\"],['Female','Male'],inplace=True)"
   ]
  },
  {
   "cell_type": "code",
   "execution_count": 83,
   "id": "e7942d70",
   "metadata": {},
   "outputs": [
    {
     "data": {
      "text/html": [
       "<div>\n",
       "<style scoped>\n",
       "    .dataframe tbody tr th:only-of-type {\n",
       "        vertical-align: middle;\n",
       "    }\n",
       "\n",
       "    .dataframe tbody tr th {\n",
       "        vertical-align: top;\n",
       "    }\n",
       "\n",
       "    .dataframe thead th {\n",
       "        text-align: right;\n",
       "    }\n",
       "</style>\n",
       "<table border=\"1\" class=\"dataframe\">\n",
       "  <thead>\n",
       "    <tr style=\"text-align: right;\">\n",
       "      <th></th>\n",
       "      <th>First</th>\n",
       "      <th>Last</th>\n",
       "      <th>Gender</th>\n",
       "      <th>Age</th>\n",
       "      <th>Shift</th>\n",
       "      <th>Month</th>\n",
       "      <th>Volunteer Task</th>\n",
       "      <th>Task Level</th>\n",
       "      <th>Supervisor Number</th>\n",
       "      <th>Fees Owed</th>\n",
       "      <th>Materials Needed</th>\n",
       "      <th>Volunteer Hours</th>\n",
       "      <th>Hours Pledged</th>\n",
       "      <th>Task Training Completed</th>\n",
       "      <th>Recruited Volunteers</th>\n",
       "    </tr>\n",
       "  </thead>\n",
       "  <tbody>\n",
       "    <tr>\n",
       "      <th>994</th>\n",
       "      <td>Walter</td>\n",
       "      <td>Mulgrew</td>\n",
       "      <td>Male</td>\n",
       "      <td>63</td>\n",
       "      <td>3</td>\n",
       "      <td>4</td>\n",
       "      <td>Information Desk</td>\n",
       "      <td>2</td>\n",
       "      <td>5</td>\n",
       "      <td>10</td>\n",
       "      <td>Y</td>\n",
       "      <td>25</td>\n",
       "      <td>28</td>\n",
       "      <td>Y</td>\n",
       "      <td>5</td>\n",
       "    </tr>\n",
       "    <tr>\n",
       "      <th>995</th>\n",
       "      <td>Veronica</td>\n",
       "      <td>Looner</td>\n",
       "      <td>Female</td>\n",
       "      <td>63</td>\n",
       "      <td>3</td>\n",
       "      <td>5</td>\n",
       "      <td>Clean Up</td>\n",
       "      <td>2</td>\n",
       "      <td>5</td>\n",
       "      <td>28</td>\n",
       "      <td>Y</td>\n",
       "      <td>8</td>\n",
       "      <td>28</td>\n",
       "      <td>Y</td>\n",
       "      <td>4</td>\n",
       "    </tr>\n",
       "    <tr>\n",
       "      <th>996</th>\n",
       "      <td>Larry</td>\n",
       "      <td>Patterson</td>\n",
       "      <td>Male</td>\n",
       "      <td>49</td>\n",
       "      <td>1</td>\n",
       "      <td>4</td>\n",
       "      <td>Clean Up</td>\n",
       "      <td>2</td>\n",
       "      <td>5</td>\n",
       "      <td>21</td>\n",
       "      <td>Y</td>\n",
       "      <td>16</td>\n",
       "      <td>28</td>\n",
       "      <td>N</td>\n",
       "      <td>3</td>\n",
       "    </tr>\n",
       "    <tr>\n",
       "      <th>997</th>\n",
       "      <td>Victor</td>\n",
       "      <td>Kane</td>\n",
       "      <td>Male</td>\n",
       "      <td>39</td>\n",
       "      <td>3</td>\n",
       "      <td>7</td>\n",
       "      <td>Concession Stand</td>\n",
       "      <td>2</td>\n",
       "      <td>5</td>\n",
       "      <td>28</td>\n",
       "      <td>Y</td>\n",
       "      <td>8</td>\n",
       "      <td>28</td>\n",
       "      <td>Y</td>\n",
       "      <td>4</td>\n",
       "    </tr>\n",
       "    <tr>\n",
       "      <th>998</th>\n",
       "      <td>Victoria</td>\n",
       "      <td>Rogers</td>\n",
       "      <td>Female</td>\n",
       "      <td>29</td>\n",
       "      <td>4</td>\n",
       "      <td>4</td>\n",
       "      <td>Gardening and Lawn Care</td>\n",
       "      <td>2</td>\n",
       "      <td>5</td>\n",
       "      <td>21</td>\n",
       "      <td>Y</td>\n",
       "      <td>18</td>\n",
       "      <td>28</td>\n",
       "      <td>N</td>\n",
       "      <td>1</td>\n",
       "    </tr>\n",
       "  </tbody>\n",
       "</table>\n",
       "</div>"
      ],
      "text/plain": [
       "        First       Last  Gender  Age  Shift  Month           Volunteer Task  \\\n",
       "994    Walter    Mulgrew    Male   63      3      4         Information Desk   \n",
       "995  Veronica     Looner  Female   63      3      5                 Clean Up   \n",
       "996     Larry  Patterson    Male   49      1      4                 Clean Up   \n",
       "997    Victor       Kane    Male   39      3      7         Concession Stand   \n",
       "998  Victoria     Rogers  Female   29      4      4  Gardening and Lawn Care   \n",
       "\n",
       "     Task Level  Supervisor Number  Fees Owed Materials Needed  \\\n",
       "994           2                  5         10                Y   \n",
       "995           2                  5         28                Y   \n",
       "996           2                  5         21                Y   \n",
       "997           2                  5         28                Y   \n",
       "998           2                  5         21                Y   \n",
       "\n",
       "     Volunteer Hours  Hours Pledged Task Training Completed  \\\n",
       "994               25             28                       Y   \n",
       "995                8             28                       Y   \n",
       "996               16             28                       N   \n",
       "997                8             28                       Y   \n",
       "998               18             28                       N   \n",
       "\n",
       "     Recruited Volunteers  \n",
       "994                     5  \n",
       "995                     4  \n",
       "996                     3  \n",
       "997                     4  \n",
       "998                     1  "
      ]
     },
     "execution_count": 83,
     "metadata": {},
     "output_type": "execute_result"
    }
   ],
   "source": [
    "df.tail()"
   ]
  },
  {
   "cell_type": "code",
   "execution_count": null,
   "id": "668f4399",
   "metadata": {},
   "outputs": [],
   "source": []
  }
 ],
 "metadata": {
  "kernelspec": {
   "display_name": "Python 3",
   "language": "python",
   "name": "python3"
  },
  "language_info": {
   "codemirror_mode": {
    "name": "ipython",
    "version": 3
   },
   "file_extension": ".py",
   "mimetype": "text/x-python",
   "name": "python",
   "nbconvert_exporter": "python",
   "pygments_lexer": "ipython3",
   "version": "3.8.8"
  }
 },
 "nbformat": 4,
 "nbformat_minor": 5
}
